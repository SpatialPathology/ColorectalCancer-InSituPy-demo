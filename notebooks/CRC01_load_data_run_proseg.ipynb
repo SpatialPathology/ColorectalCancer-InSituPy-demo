{
 "cells": [
  {
   "cell_type": "markdown",
   "metadata": {
    "vscode": {
     "languageId": "plaintext"
    }
   },
   "source": [
    "# Load Colorectal Cancer data"
   ]
  },
  {
   "cell_type": "code",
   "execution_count": 1,
   "metadata": {},
   "outputs": [],
   "source": [
    "## The following code ensures that all functions and init files are reloaded before executions.\n",
    "%load_ext autoreload\n",
    "%autoreload 2"
   ]
  },
  {
   "cell_type": "code",
   "execution_count": 2,
   "metadata": {},
   "outputs": [],
   "source": [
    "from pathlib import Path\n",
    "from insitupy import InSituData, InSituExperiment, CACHE"
   ]
  },
  {
   "cell_type": "code",
   "execution_count": null,
   "metadata": {},
   "outputs": [],
   "source": [
    "config_path = Path(\"./csv/sample_configuration.csv\")\n",
    "out_path = Path(\"out\")\n",
    "out_path.mkdir(exist_ok=True)"
   ]
  },
  {
   "cell_type": "code",
   "execution_count": 4,
   "metadata": {},
   "outputs": [
    {
     "name": "stderr",
     "output_type": "stream",
     "text": [
      "100%|██████████| 7/7 [00:12<00:00,  1.76s/it]\n"
     ]
    }
   ],
   "source": [
    "exp = InSituExperiment.from_config(config_path, mode=\"xenium\")"
   ]
  },
  {
   "cell_type": "code",
   "execution_count": 5,
   "metadata": {},
   "outputs": [
    {
     "data": {
      "text/plain": [
       "\u001b[1mInSituExperiment\u001b[0m with 7 samples:\n",
       "           uid  CITAR slide_id sample_id Region  ...           Type     Sample Name Metastasis type              HE           panCK\n",
       "0     65babf4b  +++--  0003621  Region_1      1  ...  primary tumor  Colorectal ...             NaN  ../data/000...  ../data/000...\n",
       "1     4856f03a  +++--  0003621  Region_2      2  ...     metastasis  Lymph node ...     synchronous  ../data/000...  ../data/000...\n",
       "2     dc3c9ebf  +++--  0003621  Region_3      3  ...     metastasis  Lung metast...    asynchronous  ../data/000...  ../data/000...\n",
       "3     984c3c6b  +++--  0003621  Region_4      4  ...     metastasis  Liver metas...     synchronous  ../data/000...  ../data/000...\n",
       "4     2f211922  +++--  0003991  Region_1      1  ...  primary tumor  Colorectal ...             NaN  ../data/000...  ../data/000...\n",
       "5     369a8637  +++--  0003991  Region_2      2  ...     metastasis  Lymph node ...     synchronous  ../data/000...  ../data/000...\n",
       "6     6bc5f498  +++--  0003991  Region_3      3  ...     metastasis  Lung metast...    asynchronous  ../data/000...  ../data/000..."
      ]
     },
     "execution_count": 5,
     "metadata": {},
     "output_type": "execute_result"
    }
   ],
   "source": [
    "exp"
   ]
  },
  {
   "cell_type": "code",
   "execution_count": 6,
   "metadata": {},
   "outputs": [],
   "source": [
    "from insitupy import register_images"
   ]
  },
  {
   "cell_type": "code",
   "execution_count": 7,
   "metadata": {},
   "outputs": [
    {
     "name": "stdout",
     "output_type": "stream",
     "text": [
      "65babf4b\n",
      "\tProcessing following histo images: \u001b[1mHE\u001b[0m\n",
      "\t\tLoading images to be registered...\n",
      "\t\tRun color deconvolution\n",
      "Load and scale image data containing all channels.\n",
      "\t\tLoad image into memory...\n",
      "\t\tLoad template into memory...\n",
      "\t\tRescale image and template to save memory.\n",
      "\t\t\tRescaled from (29951, 23611, 3) to following dimensions: (4505, 3551, 3)\n",
      "\t\t\tRescaled from (27352, 34139) to following dimensions: (3579, 4468)\n",
      "\t\tConvert scaled images to 8 bit\n",
      "Load and scale image data containing only the channels required for registration.\n",
      "\t\tRescale image and template to save memory.\n",
      "\t\t\tRescaled from (29950, 23610) to following dimensions: (4505, 3551)\n",
      "\t\t\tRescaled from (27352, 34139) to following dimensions: (3579, 4468)\n",
      "\t\tConvert scaled images to 8 bit\n",
      "\t\tExtract common features from image and template\n",
      "\t\t2025-06-20 11:20:44: Get features...\n",
      "\t\t\tAdjust contrast with clip method...\n",
      "\t\t\tMethod: SIFT...\n",
      "\t\t2025-06-20 11:20:52: Compute matches...\n",
      "\t\t2025-06-20 11:21:02: Filter matches...\n",
      "\t\t\tSufficient number of good matches found (2592/210).\n",
      "\t\t2025-06-20 11:21:02: Display matches...\n",
      "\t\t2025-06-20 11:21:03: Fetch keypoints...\n",
      "\t\t2025-06-20 11:21:03: Estimate 2D affine transformation matrix...\n",
      "\t\t2025-06-20 11:21:03: Register image by affine transformation...\n",
      "\t\tSave OME-TIFF to out\\registered_images\\0003621__Region_1__HE__registered.ome.tif\n",
      "\t\tSave QC files to out\\registered_images\\registration_qc\n",
      "\tProcessing following histo images: \u001b[1mpanCK\u001b[0m\n",
      "\t\tLoading images to be registered...\n",
      "\t\tRun color deconvolution\n",
      "Load and scale image data containing all channels.\n",
      "\t\tLoad image into memory...\n",
      "\t\tLoad template into memory...\n",
      "\t\tRescale image and template to save memory.\n",
      "\t\t\tRescaled from (27610, 23755, 3) to following dimensions: (4312, 3709, 3)\n",
      "\t\t\tRescaled from (27352, 34139) to following dimensions: (3579, 4468)\n",
      "\t\tConvert scaled images to 8 bit\n",
      "Load and scale image data containing only the channels required for registration.\n",
      "\t\tRescale image and template to save memory.\n",
      "\t\t\tRescaled from (27610, 23755) to following dimensions: (4312, 3709)\n",
      "\t\t\tRescaled from (27352, 34139) to following dimensions: (3579, 4468)\n",
      "\t\tConvert scaled images to 8 bit\n",
      "\t\tExtract common features from image and template\n",
      "\t\t2025-06-20 11:21:55: Get features...\n",
      "\t\t\tAdjust contrast with clip method...\n",
      "\t\t\tMethod: SIFT...\n",
      "\t\t2025-06-20 11:22:07: Compute matches...\n",
      "\t\t2025-06-20 11:22:18: Filter matches...\n",
      "\t\t\tSufficient number of good matches found (4421/210).\n",
      "\t\t2025-06-20 11:22:18: Display matches...\n",
      "\t\t2025-06-20 11:22:19: Fetch keypoints...\n",
      "\t\t2025-06-20 11:22:19: Estimate 2D affine transformation matrix...\n",
      "\t\t2025-06-20 11:22:20: Register image by affine transformation...\n",
      "\t\tSave OME-TIFF to out\\registered_images\\0003621__Region_1__panCK__registered.ome.tif\n",
      "\t\tSave QC files to out\\registered_images\\registration_qc\n",
      "4856f03a\n",
      "\tProcessing following histo images: \u001b[1mHE\u001b[0m\n",
      "\t\tLoading images to be registered...\n",
      "\t\tRun color deconvolution\n",
      "Load and scale image data containing all channels.\n",
      "\t\tLoad image into memory...\n",
      "\t\tLoad template into memory...\n",
      "\t\tRescale image and template to save memory.\n",
      "\t\t\tRescaled from (30388, 25907, 3) to following dimensions: (4332, 3693, 3)\n",
      "\t\t\tRescaled from (30696, 36964) to following dimensions: (3644, 4389)\n",
      "\t\tConvert scaled images to 8 bit\n",
      "Load and scale image data containing only the channels required for registration.\n",
      "\t\tRescale image and template to save memory.\n",
      "\t\t\tRescaled from (30385, 25905) to following dimensions: (4332, 3693)\n",
      "\t\t\tRescaled from (30696, 36964) to following dimensions: (3644, 4389)\n",
      "\t\tConvert scaled images to 8 bit\n",
      "\t\tExtract common features from image and template\n",
      "\t\t2025-06-20 11:23:12: Get features...\n",
      "\t\t\tAdjust contrast with clip method...\n",
      "\t\t\tMethod: SIFT...\n",
      "\t\t2025-06-20 11:23:20: Compute matches...\n",
      "\t\t2025-06-20 11:23:32: Filter matches...\n",
      "\t\t\tSufficient number of good matches found (2935/256).\n",
      "\t\t2025-06-20 11:23:32: Display matches...\n",
      "\t\t2025-06-20 11:23:33: Fetch keypoints...\n",
      "\t\t2025-06-20 11:23:33: Estimate 2D affine transformation matrix...\n",
      "\t\t2025-06-20 11:23:33: Register image by affine transformation...\n",
      "\t\tSave OME-TIFF to out\\registered_images\\0003621__Region_2__HE__registered.ome.tif\n",
      "\t\tSave QC files to out\\registered_images\\registration_qc\n",
      "\tProcessing following histo images: \u001b[1mpanCK\u001b[0m\n",
      "\t\tLoading images to be registered...\n",
      "\t\tRun color deconvolution\n",
      "Load and scale image data containing all channels.\n",
      "\t\tLoad image into memory...\n",
      "\t\tLoad template into memory...\n",
      "\t\tRescale image and template to save memory.\n",
      "\t\t\tRescaled from (30744, 26185, 3) to following dimensions: (4334, 3691, 3)\n",
      "\t\t\tRescaled from (30696, 36964) to following dimensions: (3644, 4389)\n",
      "\t\tConvert scaled images to 8 bit\n",
      "Load and scale image data containing only the channels required for registration.\n",
      "\t\tRescale image and template to save memory.\n",
      "\t\t\tRescaled from (30740, 26185) to following dimensions: (4333, 3690)\n",
      "\t\t\tRescaled from (30696, 36964) to following dimensions: (3644, 4389)\n",
      "\t\tConvert scaled images to 8 bit\n",
      "\t\tExtract common features from image and template\n",
      "\t\t2025-06-20 11:24:32: Get features...\n",
      "\t\t\tAdjust contrast with clip method...\n",
      "\t\t\tMethod: SIFT...\n",
      "\t\t2025-06-20 11:24:41: Compute matches...\n",
      "\t\t2025-06-20 11:24:51: Filter matches...\n",
      "\t\t\tSufficient number of good matches found (5453/256).\n",
      "\t\t2025-06-20 11:24:51: Display matches...\n",
      "\t\t2025-06-20 11:24:53: Fetch keypoints...\n",
      "\t\t2025-06-20 11:24:53: Estimate 2D affine transformation matrix...\n",
      "\t\t2025-06-20 11:24:53: Register image by affine transformation...\n",
      "\t\tSave OME-TIFF to out\\registered_images\\0003621__Region_2__panCK__registered.ome.tif\n",
      "\t\tSave QC files to out\\registered_images\\registration_qc\n",
      "dc3c9ebf\n",
      "\tProcessing following histo images: \u001b[1mHE\u001b[0m\n",
      "\t\tLoading images to be registered...\n",
      "\t\tRun color deconvolution\n",
      "Load and scale image data containing all channels.\n",
      "\t\tLoad image into memory...\n",
      "\t\tLoad template into memory...\n",
      "\t\tRescale image and template to save memory.\n",
      "\t\t\tRescaled from (26835, 26617, 3) to following dimensions: (4016, 3983, 3)\n",
      "\t\t\tRescaled from (34067, 28506) to following dimensions: (4372, 3658)\n",
      "\t\tConvert scaled images to 8 bit\n",
      "Load and scale image data containing only the channels required for registration.\n",
      "\t\tRescale image and template to save memory.\n",
      "\t\t\tRescaled from (26835, 26615) to following dimensions: (4016, 3983)\n",
      "\t\t\tRescaled from (34067, 28506) to following dimensions: (4372, 3658)\n",
      "\t\tConvert scaled images to 8 bit\n",
      "\t\tExtract common features from image and template\n",
      "\t\t2025-06-20 11:25:45: Get features...\n",
      "\t\t\tAdjust contrast with clip method...\n",
      "\t\t\tMethod: SIFT...\n",
      "\t\t2025-06-20 11:25:55: Compute matches...\n",
      "\t\t2025-06-20 11:26:09: Filter matches...\n",
      "\t\t\tSufficient number of good matches found (2522/219).\n",
      "\t\t2025-06-20 11:26:09: Display matches...\n",
      "\t\t2025-06-20 11:26:11: Fetch keypoints...\n",
      "\t\t2025-06-20 11:26:11: Estimate 2D affine transformation matrix...\n",
      "\t\t2025-06-20 11:26:11: Register image by affine transformation...\n",
      "\t\tSave OME-TIFF to out\\registered_images\\0003621__Region_3__HE__registered.ome.tif\n",
      "\t\tSave QC files to out\\registered_images\\registration_qc\n",
      "\tProcessing following histo images: \u001b[1mpanCK\u001b[0m\n",
      "\t\tLoading images to be registered...\n",
      "\t\tRun color deconvolution\n",
      "Load and scale image data containing all channels.\n",
      "\t\tLoad image into memory...\n",
      "\t\tLoad template into memory...\n",
      "\t\tRescale image and template to save memory.\n",
      "\t\t\tRescaled from (26851, 26184, 3) to following dimensions: (4050, 3949, 3)\n",
      "\t\t\tRescaled from (34067, 28506) to following dimensions: (4372, 3658)\n",
      "\t\tConvert scaled images to 8 bit\n",
      "Load and scale image data containing only the channels required for registration.\n",
      "\t\tRescale image and template to save memory.\n",
      "\t\t\tRescaled from (26850, 26180) to following dimensions: (4050, 3948)\n",
      "\t\t\tRescaled from (34067, 28506) to following dimensions: (4372, 3658)\n",
      "\t\tConvert scaled images to 8 bit\n",
      "\t\tExtract common features from image and template\n",
      "\t\t2025-06-20 11:27:05: Get features...\n",
      "\t\t\tAdjust contrast with clip method...\n",
      "\t\t\tMethod: SIFT...\n",
      "\t\t2025-06-20 11:27:14: Compute matches...\n",
      "\t\t2025-06-20 11:27:26: Filter matches...\n",
      "\t\t\tSufficient number of good matches found (3610/219).\n",
      "\t\t2025-06-20 11:27:26: Display matches...\n",
      "\t\t2025-06-20 11:27:28: Fetch keypoints...\n",
      "\t\t2025-06-20 11:27:28: Estimate 2D affine transformation matrix...\n",
      "\t\t2025-06-20 11:27:28: Register image by affine transformation...\n",
      "\t\tSave OME-TIFF to out\\registered_images\\0003621__Region_3__panCK__registered.ome.tif\n",
      "\t\tSave QC files to out\\registered_images\\registration_qc\n",
      "984c3c6b\n",
      "\tProcessing following histo images: \u001b[1mHE\u001b[0m\n",
      "\t\tLoading images to be registered...\n",
      "\t\tRun color deconvolution\n",
      "Load and scale image data containing all channels.\n",
      "\t\tLoad image into memory...\n",
      "\t\tLoad template into memory...\n",
      "\t\tRescale image and template to save memory.\n",
      "\t\t\tRescaled from (26890, 26562, 3) to following dimensions: (4024, 3974, 3)\n",
      "\t\t\tRescaled from (30723, 31318) to following dimensions: (3961, 4038)\n",
      "\t\tConvert scaled images to 8 bit\n",
      "Load and scale image data containing only the channels required for registration.\n",
      "\t\tRescale image and template to save memory.\n",
      "\t\t\tRescaled from (26890, 26560) to following dimensions: (4024, 3974)\n",
      "\t\t\tRescaled from (30723, 31318) to following dimensions: (3961, 4038)\n",
      "\t\tConvert scaled images to 8 bit\n",
      "\t\tExtract common features from image and template\n",
      "\t\t2025-06-20 11:28:17: Get features...\n",
      "\t\t\tAdjust contrast with clip method...\n",
      "\t\t\tMethod: SIFT...\n",
      "\t\t2025-06-20 11:28:27: Compute matches...\n",
      "\t\t2025-06-20 11:28:39: Filter matches...\n",
      "\t\t\tSufficient number of good matches found (2214/217).\n",
      "\t\t2025-06-20 11:28:39: Display matches...\n",
      "\t\t2025-06-20 11:28:40: Fetch keypoints...\n",
      "\t\t2025-06-20 11:28:40: Estimate 2D affine transformation matrix...\n",
      "\t\t2025-06-20 11:28:40: Register image by affine transformation...\n",
      "\t\tSave OME-TIFF to out\\registered_images\\0003621__Region_4__HE__registered.ome.tif\n",
      "\t\tSave QC files to out\\registered_images\\registration_qc\n",
      "\tProcessing following histo images: \u001b[1mpanCK\u001b[0m\n",
      "\t\tLoading images to be registered...\n",
      "\t\tRun color deconvolution\n",
      "Load and scale image data containing all channels.\n",
      "\t\tLoad image into memory...\n",
      "\t\tLoad template into memory...\n",
      "\t\tRescale image and template to save memory.\n",
      "\t\t\tRescaled from (27547, 27077, 3) to following dimensions: (4034, 3965, 3)\n",
      "\t\t\tRescaled from (30723, 31318) to following dimensions: (3961, 4038)\n",
      "\t\tConvert scaled images to 8 bit\n",
      "Load and scale image data containing only the channels required for registration.\n",
      "\t\tRescale image and template to save memory.\n",
      "\t\t\tRescaled from (27545, 27075) to following dimensions: (4034, 3965)\n",
      "\t\t\tRescaled from (30723, 31318) to following dimensions: (3961, 4038)\n",
      "\t\tConvert scaled images to 8 bit\n",
      "\t\tExtract common features from image and template\n",
      "\t\t2025-06-20 11:29:36: Get features...\n",
      "\t\t\tAdjust contrast with clip method...\n",
      "\t\t\tMethod: SIFT...\n",
      "\t\t2025-06-20 11:29:46: Compute matches...\n",
      "\t\t2025-06-20 11:29:58: Filter matches...\n",
      "\t\t\tSufficient number of good matches found (2532/217).\n",
      "\t\t2025-06-20 11:29:58: Display matches...\n",
      "\t\t2025-06-20 11:30:00: Fetch keypoints...\n",
      "\t\t2025-06-20 11:30:00: Estimate 2D affine transformation matrix...\n",
      "\t\t2025-06-20 11:30:00: Register image by affine transformation...\n",
      "\t\tSave OME-TIFF to out\\registered_images\\0003621__Region_4__panCK__registered.ome.tif\n",
      "\t\tSave QC files to out\\registered_images\\registration_qc\n",
      "2f211922\n",
      "\tProcessing following histo images: \u001b[1mHE\u001b[0m\n",
      "\t\tLoading images to be registered...\n",
      "\t\tRun color deconvolution\n",
      "Load and scale image data containing all channels.\n",
      "\t\tLoad image into memory...\n",
      "\t\tLoad template into memory...\n",
      "\t\tRescale image and template to save memory.\n",
      "\t\t\tRescaled from (32256, 18990, 3) to following dimensions: (5213, 3069, 3)\n",
      "\t\t\tRescaled from (23903, 36983) to following dimensions: (3215, 4975)\n",
      "\t\tConvert scaled images to 8 bit\n",
      "Load and scale image data containing only the channels required for registration.\n",
      "\t\tRescale image and template to save memory.\n",
      "\t\t\tRescaled from (32255, 18990) to following dimensions: (5213, 3069)\n",
      "\t\t\tRescaled from (23903, 36983) to following dimensions: (3215, 4975)\n",
      "\t\tConvert scaled images to 8 bit\n",
      "\t\tExtract common features from image and template\n",
      "\t\t2025-06-20 11:30:56: Get features...\n",
      "\t\t\tAdjust contrast with clip method...\n",
      "\t\t\tMethod: SIFT...\n",
      "\t\t2025-06-20 11:31:06: Compute matches...\n",
      "\t\t2025-06-20 11:31:16: Filter matches...\n",
      "\t\t\tSufficient number of good matches found (4716/199).\n",
      "\t\t2025-06-20 11:31:16: Display matches...\n",
      "\t\t2025-06-20 11:31:17: Fetch keypoints...\n",
      "\t\t2025-06-20 11:31:18: Estimate 2D affine transformation matrix...\n",
      "\t\t2025-06-20 11:31:18: Register image by affine transformation...\n",
      "\t\tSave OME-TIFF to out\\registered_images\\0003991__Region_1__HE__registered.ome.tif\n",
      "\t\tSave QC files to out\\registered_images\\registration_qc\n",
      "\tProcessing following histo images: \u001b[1mpanCK\u001b[0m\n",
      "\t\tLoading images to be registered...\n",
      "\t\tRun color deconvolution\n",
      "Load and scale image data containing all channels.\n",
      "\t\tLoad image into memory...\n",
      "\t\tLoad template into memory...\n",
      "\t\tRescale image and template to save memory.\n",
      "\t\t\tRescaled from (32248, 19103, 3) to following dimensions: (5197, 3078, 3)\n",
      "\t\t\tRescaled from (23903, 36983) to following dimensions: (3215, 4975)\n",
      "\t\tConvert scaled images to 8 bit\n",
      "Load and scale image data containing only the channels required for registration.\n",
      "\t\tRescale image and template to save memory.\n",
      "\t\t\tRescaled from (32245, 19100) to following dimensions: (5197, 3078)\n",
      "\t\t\tRescaled from (23903, 36983) to following dimensions: (3215, 4975)\n",
      "\t\tConvert scaled images to 8 bit\n",
      "\t\tExtract common features from image and template\n",
      "\t\t2025-06-20 11:32:07: Get features...\n",
      "\t\t\tAdjust contrast with clip method...\n",
      "\t\t\tMethod: SIFT...\n",
      "\t\t2025-06-20 11:32:16: Compute matches...\n",
      "\t\t2025-06-20 11:32:25: Filter matches...\n",
      "\t\t\tSufficient number of good matches found (4173/199).\n",
      "\t\t2025-06-20 11:32:25: Display matches...\n",
      "\t\t2025-06-20 11:32:26: Fetch keypoints...\n",
      "\t\t2025-06-20 11:32:26: Estimate 2D affine transformation matrix...\n",
      "\t\t2025-06-20 11:32:26: Register image by affine transformation...\n",
      "\t\tSave OME-TIFF to out\\registered_images\\0003991__Region_1__panCK__registered.ome.tif\n",
      "\t\tSave QC files to out\\registered_images\\registration_qc\n",
      "369a8637\n",
      "\tProcessing following histo images: \u001b[1mHE\u001b[0m\n",
      "\t\tLoading images to be registered...\n",
      "\t\tRun color deconvolution\n",
      "Load and scale image data containing all channels.\n",
      "\t\tLoad image into memory...\n",
      "\t\tLoad template into memory...\n",
      "\t\tRescale image and template to save memory.\n",
      "\t\t\tRescaled from (29655, 26517, 3) to following dimensions: (4230, 3782, 3)\n",
      "\t\t\tRescaled from (30698, 36975) to following dimensions: (3643, 4389)\n",
      "\t\tConvert scaled images to 8 bit\n",
      "Load and scale image data containing only the channels required for registration.\n",
      "\t\tRescale image and template to save memory.\n",
      "\t\t\tRescaled from (29655, 26515) to following dimensions: (4230, 3782)\n",
      "\t\t\tRescaled from (30698, 36975) to following dimensions: (3643, 4389)\n",
      "\t\tConvert scaled images to 8 bit\n",
      "\t\tExtract common features from image and template\n",
      "\t\t2025-06-20 11:33:20: Get features...\n",
      "\t\t\tAdjust contrast with clip method...\n",
      "\t\t\tMethod: SIFT...\n",
      "\t\t2025-06-20 11:33:30: Compute matches...\n",
      "\t\t2025-06-20 11:33:39: Filter matches...\n",
      "\t\t\tSufficient number of good matches found (3665/256).\n",
      "\t\t2025-06-20 11:33:39: Display matches...\n",
      "\t\t2025-06-20 11:33:41: Fetch keypoints...\n",
      "\t\t2025-06-20 11:33:41: Estimate 2D affine transformation matrix...\n",
      "\t\t2025-06-20 11:33:41: Register image by affine transformation...\n",
      "\t\tSave OME-TIFF to out\\registered_images\\0003991__Region_2__HE__registered.ome.tif\n",
      "\t\tSave QC files to out\\registered_images\\registration_qc\n",
      "\tProcessing following histo images: \u001b[1mpanCK\u001b[0m\n",
      "\t\tLoading images to be registered...\n",
      "\t\tRun color deconvolution\n",
      "Load and scale image data containing all channels.\n",
      "\t\tLoad image into memory...\n",
      "\t\tLoad template into memory...\n",
      "\t\tRescale image and template to save memory.\n",
      "\t\t\tRescaled from (28700, 25062, 3) to following dimensions: (4280, 3737, 3)\n",
      "\t\t\tRescaled from (30698, 36975) to following dimensions: (3643, 4389)\n",
      "\t\tConvert scaled images to 8 bit\n",
      "Load and scale image data containing only the channels required for registration.\n",
      "\t\tRescale image and template to save memory.\n",
      "\t\t\tRescaled from (28700, 25060) to following dimensions: (4280, 3737)\n",
      "\t\t\tRescaled from (30698, 36975) to following dimensions: (3643, 4389)\n",
      "\t\tConvert scaled images to 8 bit\n",
      "\t\tExtract common features from image and template\n",
      "\t\t2025-06-20 11:34:43: Get features...\n",
      "\t\t\tAdjust contrast with clip method...\n",
      "\t\t\tMethod: SIFT...\n",
      "\t\t2025-06-20 11:34:53: Compute matches...\n",
      "\t\t2025-06-20 11:35:02: Filter matches...\n",
      "\t\t\tSufficient number of good matches found (4883/256).\n",
      "\t\t2025-06-20 11:35:02: Display matches...\n",
      "\t\t2025-06-20 11:35:03: Fetch keypoints...\n",
      "\t\t2025-06-20 11:35:03: Estimate 2D affine transformation matrix...\n",
      "\t\t2025-06-20 11:35:03: Register image by affine transformation...\n",
      "\t\tSave OME-TIFF to out\\registered_images\\0003991__Region_2__panCK__registered.ome.tif\n",
      "\t\tSave QC files to out\\registered_images\\registration_qc\n",
      "6bc5f498\n",
      "\tProcessing following histo images: \u001b[1mHE\u001b[0m\n",
      "\t\tLoading images to be registered...\n",
      "\t\tRun color deconvolution\n",
      "Load and scale image data containing all channels.\n",
      "\t\tLoad image into memory...\n",
      "\t\tLoad template into memory...\n",
      "\t\tRescale image and template to save memory.\n",
      "\t\t\tRescaled from (19742, 19020, 3) to following dimensions: (4075, 3925, 3)\n",
      "\t\t\tRescaled from (23911, 22817) to following dimensions: (4094, 3906)\n",
      "\t\tConvert scaled images to 8 bit\n",
      "Load and scale image data containing only the channels required for registration.\n",
      "\t\tRescale image and template to save memory.\n",
      "\t\t\tRescaled from (19740, 19020) to following dimensions: (4075, 3926)\n",
      "\t\t\tRescaled from (23911, 22817) to following dimensions: (4094, 3906)\n",
      "\t\tConvert scaled images to 8 bit\n",
      "\t\tExtract common features from image and template\n",
      "\t\t2025-06-20 11:35:48: Get features...\n",
      "\t\t\tAdjust contrast with clip method...\n",
      "\t\t\tMethod: SIFT...\n",
      "\t\t2025-06-20 11:36:00: Compute matches...\n",
      "\t\t2025-06-20 11:36:13: Filter matches...\n",
      "\t\t\tSufficient number of good matches found (3991/123).\n",
      "\t\t2025-06-20 11:36:13: Display matches...\n",
      "\t\t2025-06-20 11:36:14: Fetch keypoints...\n",
      "\t\t2025-06-20 11:36:14: Estimate 2D affine transformation matrix...\n",
      "\t\t2025-06-20 11:36:14: Register image by affine transformation...\n",
      "\t\tSave OME-TIFF to out\\registered_images\\0003991__Region_3__HE__registered.ome.tif\n",
      "\t\tSave QC files to out\\registered_images\\registration_qc\n",
      "\tProcessing following histo images: \u001b[1mpanCK\u001b[0m\n",
      "\t\tLoading images to be registered...\n",
      "\t\tRun color deconvolution\n",
      "Load and scale image data containing all channels.\n",
      "\t\tLoad image into memory...\n",
      "\t\tLoad template into memory...\n",
      "\t\tRescale image and template to save memory.\n",
      "\t\t\tRescaled from (20055, 18706, 3) to following dimensions: (4141, 3862, 3)\n",
      "\t\t\tRescaled from (23911, 22817) to following dimensions: (4094, 3906)\n",
      "\t\tConvert scaled images to 8 bit\n",
      "Load and scale image data containing only the channels required for registration.\n",
      "\t\tRescale image and template to save memory.\n",
      "\t\t\tRescaled from (20055, 18705) to following dimensions: (4141, 3862)\n",
      "\t\t\tRescaled from (23911, 22817) to following dimensions: (4094, 3906)\n",
      "\t\tConvert scaled images to 8 bit\n",
      "\t\tExtract common features from image and template\n",
      "\t\t2025-06-20 11:36:45: Get features...\n",
      "\t\t\tAdjust contrast with clip method...\n",
      "\t\t\tMethod: SIFT...\n",
      "\t\t2025-06-20 11:36:56: Compute matches...\n",
      "\t\t2025-06-20 11:37:06: Filter matches...\n",
      "\t\t\tSufficient number of good matches found (3094/123).\n",
      "\t\t2025-06-20 11:37:06: Display matches...\n",
      "\t\t2025-06-20 11:37:07: Fetch keypoints...\n",
      "\t\t2025-06-20 11:37:07: Estimate 2D affine transformation matrix...\n",
      "\t\t2025-06-20 11:37:07: Register image by affine transformation...\n",
      "\t\tSave OME-TIFF to out\\registered_images\\0003991__Region_3__panCK__registered.ome.tif\n",
      "\t\tSave QC files to out\\registered_images\\registration_qc\n"
     ]
    }
   ],
   "source": [
    "for meta, xd in exp.iterdata():\n",
    "    print(meta[\"uid\"])\n",
    "\n",
    "    # get absolute image paths\n",
    "    he_path = Path(meta[\"HE\"]).resolve()\n",
    "    ihc_path = Path(meta[\"panCK\"]).resolve()\n",
    "\n",
    "    register_images(\n",
    "        data=xd,\n",
    "        image_to_be_registered=he_path,\n",
    "        image_type=\"histo\",\n",
    "        channel_names='HE',\n",
    "        template_image_name=\"nuclei\",\n",
    "        save_registered_images=True,\n",
    "        output_dir=out_path\n",
    "        )\n",
    "\n",
    "    register_images(\n",
    "        data=xd,\n",
    "        image_to_be_registered=ihc_path,\n",
    "        image_type=\"histo\",\n",
    "        channel_names='panCK',\n",
    "        template_image_name=\"nuclei\",\n",
    "        save_registered_images=True,\n",
    "        output_dir=out_path\n",
    "        )"
   ]
  },
  {
   "cell_type": "code",
   "execution_count": 8,
   "metadata": {},
   "outputs": [],
   "source": [
    "data_path = out_path / \"crc_data\""
   ]
  },
  {
   "cell_type": "code",
   "execution_count": 9,
   "metadata": {},
   "outputs": [
    {
     "name": "stderr",
     "output_type": "stream",
     "text": [
      "100%|██████████| 7/7 [14:45<00:00, 126.43s/it]\n"
     ]
    }
   ],
   "source": [
    "exp.saveas(data_path, overwrite=True)"
   ]
  },
  {
   "cell_type": "code",
   "execution_count": 10,
   "metadata": {},
   "outputs": [
    {
     "name": "stderr",
     "output_type": "stream",
     "text": [
      "100%|██████████| 7/7 [00:00<00:00, 466.60it/s]\n",
      "100%|██████████| 7/7 [00:04<00:00,  1.51it/s]\n"
     ]
    }
   ],
   "source": [
    "exp = InSituExperiment.read(data_path)\n",
    "exp.load_all()"
   ]
  },
  {
   "cell_type": "code",
   "execution_count": 12,
   "metadata": {},
   "outputs": [
    {
     "data": {
      "text/plain": [
       "\u001b[1mInSituExperiment\u001b[0m with 7 samples:\n",
       "           uid  CITAR  slide_id sample_id  Region  ...           Type     Sample Name Metastasis type              HE           panCK\n",
       "0     65babf4b  +++--      3621  Region_1       1  ...  primary tumor  Colorectal ...             NaN  ../data/000...  ../data/000...\n",
       "1     4856f03a  +++--      3621  Region_2       2  ...     metastasis  Lymph node ...     synchronous  ../data/000...  ../data/000...\n",
       "2     dc3c9ebf  +++--      3621  Region_3       3  ...     metastasis  Lung metast...    asynchronous  ../data/000...  ../data/000...\n",
       "3     984c3c6b  +++--      3621  Region_4       4  ...     metastasis  Liver metas...     synchronous  ../data/000...  ../data/000...\n",
       "4     2f211922  +++--      3991  Region_1       1  ...  primary tumor  Colorectal ...             NaN  ../data/000...  ../data/000...\n",
       "5     369a8637  +++--      3991  Region_2       2  ...     metastasis  Lymph node ...     synchronous  ../data/000...  ../data/000...\n",
       "6     6bc5f498  +++--      3991  Region_3       3  ...     metastasis  Lung metast...    asynchronous  ../data/000...  ../data/000..."
      ]
     },
     "execution_count": 12,
     "metadata": {},
     "output_type": "execute_result"
    }
   ],
   "source": [
    "exp"
   ]
  },
  {
   "cell_type": "code",
   "execution_count": 13,
   "metadata": {},
   "outputs": [],
   "source": [
    "from insitupy.plotting import plot_overview"
   ]
  },
  {
   "cell_type": "code",
   "execution_count": 16,
   "metadata": {},
   "outputs": [
    {
     "data": {
      "image/png": "[encoded data removed]",
      "text/plain": [
       "<Figure size 2560x590 with 15 Axes>"
      ]
     },
     "metadata": {},
     "output_type": "display_data"
    }
   ],
   "source": [
    "plot_overview(data=exp, columns_to_plot=['sample_id', 'Region', 'Patient', 'Tissue', 'Type', 'Sample Name', 'Metastasis type'],\n",
    "                  #savepath=\"out/overview.pdf\"\n",
    "                  )"
   ]
  },
  {
   "cell_type": "code",
   "execution_count": 21,
   "metadata": {},
   "outputs": [
    {
     "data": {
      "text/plain": [
       "Viewer(camera=Camera(center=(0.0, 2539.5875, 3929.3375), zoom=0.05137495606089283, angles=(0.0, 0.0, 90.0), perspective=0.0, mouse_pan=True, mouse_zoom=True), cursor=Cursor(position=(1.0, 1.0), scaled=True, size=1, style=<CursorStyle.STANDARD: 'standard'>), dims=Dims(ndim=2, ndisplay=2, last_used=0, range=((0.0, 5079.3875, 0.2125), (0.0, 7858.8875, 0.2125)), current_step=(11951, 18491), order=(0, 1), axis_labels=('0', '1')), grid=GridCanvas(stride=1, shape=(-1, -1), enabled=False), layers=[<Image layer 'nuclei' at 0x2b51e5bdb20>, <Image layer 'HE' at 0x2b51e5cdaf0>], help='use <2> for transform', status='Ready', tooltip=Tooltip(visible=False, text=''), theme='dark', title='0003991: Region_1-5316_18_IVC', mouse_over_canvas=False, mouse_move_callbacks=[], mouse_drag_callbacks=[], mouse_double_click_callbacks=[], mouse_wheel_callbacks=[<function dims_scroll at 0x000002B4E61F3AF0>], _persisted_mouse_event={}, _mouse_drag_gen={}, _mouse_wheel_gen={}, keymap={})"
      ]
     },
     "execution_count": 21,
     "metadata": {},
     "output_type": "execute_result"
    }
   ],
   "source": [
    "exp.show(4)"
   ]
  },
  {
   "cell_type": "markdown",
   "metadata": {},
   "source": [
    "## Export transcripts for Proseg\n",
    "\n",
    "In the beginning I used following code to export the transcripts and filter for certain feature patterns and quality thresholds:\n",
    "\n",
    "```Python\n",
    "exclude_pattern = \"BLANK|NegControl|antisense_\"\n",
    "min_qv = 20\n",
    "\n",
    "for meta, data in exp.iterdata():\n",
    "    print(data.sample_id)\n",
    "\n",
    "    # extract transcript dataframe\n",
    "    transcript_df = data.transcripts\n",
    "\n",
    "    # remove genes with exclusion pattern\n",
    "    transcript_df = transcript_df[~transcript_df[\"feature_name\"].str.contains(exclude_pattern)]\n",
    "\n",
    "    # remove low quality genes\n",
    "    transcript_df = transcript_df[transcript_df[\"qv\"] >= min_qv]\n",
    "\n",
    "    transcript_df.to_csv(transcript_out / f\"transcripts__{meta['slide_id']}__{meta['sample_id']}.csv\",\n",
    "                            single_file=True)\n",
    "```\n",
    "\n",
    "However, this did not work with the CRC data and caused following error in proseg:\n",
    "\n",
    "```Bash\n",
    "thread '<unnamed>' panicked at /dss/dsshome1/0C/ge37voy2/.cargo/registry/src/index.crates.io-6f17d22bba15001f/ndarray-0.16.1/src/impl_constructors.rs:329:20:\n",
    "ndarray: Shape too large, product of non-zero axis lengths overflows isize\n",
    "```\n",
    "\n",
    "I was not able to find the problem but it did only occur after filtering and seemed to be independent of the non-unique indices caused by `dask.dataframe` and of the byte strings. But no idea what it was in the end.\n",
    "\n",
    "Alternatively, one can copy the transcript files from the raw Xenium output directory as described below and use these `csv.gz` files for proseg."
   ]
  },
  {
   "cell_type": "code",
   "execution_count": 18,
   "metadata": {},
   "outputs": [],
   "source": [
    "from pathlib import Path\n",
    "import shutil\n",
    "from insitupy.io.files import read_json\n",
    "\n",
    "def copy_file_from_xenium_output(\n",
    "    source_dir,\n",
    "    target_dir,\n",
    "    filename,\n",
    "    xenium_experiment_filename: str = \"experiment.xenium\"\n",
    "    ):\n",
    "    # Ensure the target directory exists\n",
    "    target_path = Path(target_dir)\n",
    "    target_path.mkdir(parents=True, exist_ok=True)\n",
    "\n",
    "    # Iterate through all folders in the source directory\n",
    "    for folder in Path(source_dir).glob('*'):\n",
    "        if folder.is_dir():\n",
    "            # check if it is a Xenium output directory\n",
    "            xenium_file = folder / xenium_experiment_filename\n",
    "            if xenium_file.exists():\n",
    "                print(f\"Found Xenium output directory: {folder}\")\n",
    "                # Check if the specified file exists in the current folder\n",
    "                file_path = folder / filename\n",
    "\n",
    "                # get metadata\n",
    "                region_name = read_json(xenium_file)[\"region_name\"]\n",
    "                if file_path.exists():\n",
    "                    # Copy the file to the target directory\n",
    "                    shutil.copy(file_path, target_path / f\"{region_name}__{filename}\")\n",
    "                    print(f\"\\tCopied {file_path} to {target_path}\")\n",
    "                else:\n",
    "                    print(\"\\tFile not found in directory.\")\n"
   ]
  },
  {
   "cell_type": "code",
   "execution_count": 19,
   "metadata": {},
   "outputs": [],
   "source": [
    "transcript_out = out_path / \"transcripts_export\"\n",
    "transcript_out.mkdir(exist_ok=True)"
   ]
  },
  {
   "cell_type": "code",
   "execution_count": 27,
   "metadata": {},
   "outputs": [],
   "source": [
    "from insitupy.io.files import copy_files_from_xenium_output"
   ]
  },
  {
   "cell_type": "code",
   "execution_count": 29,
   "metadata": {},
   "outputs": [],
   "source": [
    "source_directory = Path(\"../data/\")\n",
    "target_directory = transcript_out\n",
    "file_to_copy = \"transcripts.csv.gz\""
   ]
  },
  {
   "cell_type": "code",
   "execution_count": null,
   "metadata": {},
   "outputs": [
    {
     "name": "stdout",
     "output_type": "stream",
     "text": [
      "Found Xenium output directory: ..\\data\\output-XETG00050__0003621__Region_1__20230504__121954\n",
      "\tCopied ..\\data\\output-XETG00050__0003621__Region_1__20230504__121954\\transcripts.csv.gz to out\\transcripts_export\n",
      "Found Xenium output directory: ..\\data\\output-XETG00050__0003621__Region_2__20230504__121954\n",
      "\tCopied ..\\data\\output-XETG00050__0003621__Region_2__20230504__121954\\transcripts.csv.gz to out\\transcripts_export\n",
      "Found Xenium output directory: ..\\data\\output-XETG00050__0003621__Region_3__20230504__121954\n",
      "\tCopied ..\\data\\output-XETG00050__0003621__Region_3__20230504__121954\\transcripts.csv.gz to out\\transcripts_export\n",
      "Found Xenium output directory: ..\\data\\output-XETG00050__0003621__Region_4__20230504__121954\n",
      "\tCopied ..\\data\\output-XETG00050__0003621__Region_4__20230504__121954\\transcripts.csv.gz to out\\transcripts_export\n",
      "Found Xenium output directory: ..\\data\\output-XETG00050__0003991__Region_1__20230504__121954\n",
      "\tCopied ..\\data\\output-XETG00050__0003991__Region_1__20230504__121954\\transcripts.csv.gz to out\\transcripts_export\n",
      "Found Xenium output directory: ..\\data\\output-XETG00050__0003991__Region_2__20230504__121954\n",
      "\tCopied ..\\data\\output-XETG00050__0003991__Region_2__20230504__121954\\transcripts.csv.gz to out\\transcripts_export\n",
      "Found Xenium output directory: ..\\data\\output-XETG00050__0003991__Region_3__20230504__121954\n",
      "\tCopied ..\\data\\output-XETG00050__0003991__Region_3__20230504__121954\\transcripts.csv.gz to out\\transcripts_export\n"
     ]
    }
   ],
   "source": [
    "copy_files_from_xenium_output(\n",
    "    source_dir=source_directory,\n",
    "    target_dir=target_directory,\n",
    "    filename=file_to_copy,\n",
    "    xenium_filename= \"experiment.xenium\"\n",
    ")"
   ]
  },
  {
   "cell_type": "markdown",
   "metadata": {},
   "source": [
    "## Run proseg\n",
    "\n",
    "Proseg was run on the LRZ cluster using `min_qv=20` and `excluded_patterns=\"^(Deprecated|NegControl|Unassigned|Intergenic|BLANK|antisense)\"`. For parallel processing a slurm job array was used."
   ]
  },
  {
   "cell_type": "markdown",
   "metadata": {},
   "source": [
    "## Add proseg data"
   ]
  },
  {
   "cell_type": "code",
   "execution_count": null,
   "metadata": {},
   "outputs": [
    {
     "data": {
      "text/plain": [
       "WindowsPath('../data')"
      ]
     },
     "execution_count": 30,
     "metadata": {},
     "output_type": "execute_result"
    }
   ],
   "source": [
    "source_directory / \"\""
   ]
  },
  {
   "cell_type": "code",
   "execution_count": 31,
   "metadata": {},
   "outputs": [
    {
     "data": {
      "text/plain": [
       "\u001b[1mInSituExperiment\u001b[0m with 7 samples:\n",
       "           uid  CITAR  slide_id sample_id  Region  ...           Type     Sample Name Metastasis type              HE           panCK\n",
       "0     65babf4b  +++--      3621  Region_1       1  ...  primary tumor  Colorectal ...             NaN  ../data/000...  ../data/000...\n",
       "1     4856f03a  +++--      3621  Region_2       2  ...     metastasis  Lymph node ...     synchronous  ../data/000...  ../data/000...\n",
       "2     dc3c9ebf  +++--      3621  Region_3       3  ...     metastasis  Lung metast...    asynchronous  ../data/000...  ../data/000...\n",
       "3     984c3c6b  +++--      3621  Region_4       4  ...     metastasis  Liver metas...     synchronous  ../data/000...  ../data/000...\n",
       "4     2f211922  +++--      3991  Region_1       1  ...  primary tumor  Colorectal ...             NaN  ../data/000...  ../data/000...\n",
       "5     369a8637  +++--      3991  Region_2       2  ...     metastasis  Lymph node ...     synchronous  ../data/000...  ../data/000...\n",
       "6     6bc5f498  +++--      3991  Region_3       3  ...     metastasis  Lung metast...    asynchronous  ../data/000...  ../data/000..."
      ]
     },
     "execution_count": 31,
     "metadata": {},
     "output_type": "execute_result"
    }
   ],
   "source": [
    "exp"
   ]
  },
  {
   "cell_type": "code",
   "execution_count": 35,
   "metadata": {},
   "outputs": [],
   "source": [
    "#proseg_path = out_path / \"prosegruns/filtered\"\n",
    "#proseg_folders = [elem for elem in proseg_path.iterdir() if elem.is_dir()]\n",
    "proseg_folders = [elem for elem in source_directory.iterdir() if elem.stem.startswith(\"proseg\")]"
   ]
  },
  {
   "cell_type": "code",
   "execution_count": 36,
   "metadata": {},
   "outputs": [
    {
     "data": {
      "text/plain": [
       "[WindowsPath('../data/proseg__0003621__Region_1'),\n",
       " WindowsPath('../data/proseg__0003621__Region_2'),\n",
       " WindowsPath('../data/proseg__0003621__Region_3'),\n",
       " WindowsPath('../data/proseg__0003621__Region_4'),\n",
       " WindowsPath('../data/proseg__0003991__Region_1'),\n",
       " WindowsPath('../data/proseg__0003991__Region_2'),\n",
       " WindowsPath('../data/proseg__0003991__Region_3')]"
      ]
     },
     "execution_count": 36,
     "metadata": {},
     "output_type": "execute_result"
    }
   ],
   "source": [
    "proseg_folders"
   ]
  },
  {
   "cell_type": "code",
   "execution_count": 39,
   "metadata": {},
   "outputs": [
    {
     "name": "stdout",
     "output_type": "stream",
     "text": [
      "3621__Region_1\n",
      "Convert counts to float32.\n",
      "3621__Region_2\n",
      "Convert counts to float32.\n",
      "3621__Region_3\n",
      "Convert counts to float32.\n",
      "3621__Region_4\n",
      "Convert counts to float32.\n",
      "3991__Region_1\n",
      "Convert counts to float32.\n",
      "3991__Region_2\n",
      "Convert counts to float32.\n",
      "3991__Region_3\n",
      "Convert counts to float32.\n"
     ]
    }
   ],
   "source": [
    "\n",
    "for meta, xd in exp.iterdata():\n",
    "    uname = f\"{meta['slide_id']}__{meta['sample_id']}\" # get unique name for sample\n",
    "    print(uname)\n",
    "\n",
    "    # find matching folder\n",
    "    #matching_folder = [f for f in proseg_folders if f.stem == xd.sample_id.split('-')[-1]]\n",
    "    matching_folder = [f for f in proseg_folders if uname in f.stem]\n",
    "    assert len(matching_folder) == 1, f\"No or more than one possible folder found: {matching_folder}\"\n",
    "    matching_folder = matching_folder[0]\n",
    "\n",
    "    xd.cells.add_proseg(matching_folder)"
   ]
  },
  {
   "cell_type": "code",
   "execution_count": 40,
   "metadata": {},
   "outputs": [
    {
     "name": "stderr",
     "output_type": "stream",
     "text": [
      "100%|██████████| 7/7 [01:28<00:00, 12.67s/it]\n"
     ]
    }
   ],
   "source": [
    "exp.save()"
   ]
  },
  {
   "cell_type": "code",
   "execution_count": null,
   "metadata": {},
   "outputs": [],
   "source": []
  }
 ],
 "metadata": {
  "kernelspec": {
   "display_name": "insitupy",
   "language": "python",
   "name": "python3"
  },
  "language_info": {
   "codemirror_mode": {
    "name": "ipython",
    "version": 3
   },
   "file_extension": ".py",
   "mimetype": "text/x-python",
   "name": "python",
   "nbconvert_exporter": "python",
   "pygments_lexer": "ipython3",
   "version": "3.10.16"
  }
 },
 "nbformat": 4,
 "nbformat_minor": 4
}
